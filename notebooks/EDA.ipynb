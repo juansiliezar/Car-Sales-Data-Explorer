{
 "cells": [
  {
   "cell_type": "markdown",
   "metadata": {},
   "source": [
    "# Initialization"
   ]
  },
  {
   "cell_type": "code",
   "execution_count": 1,
   "metadata": {},
   "outputs": [],
   "source": [
    "# importing libraries\n",
    "import numpy as np\n",
    "import pandas as pd\n",
    "import plotly.express as px\n",
    "import math as mt\n",
    "import requests \n",
    "from io import BytesIO"
   ]
  },
  {
   "cell_type": "markdown",
   "metadata": {},
   "source": [
    "# Load Data"
   ]
  },
  {
   "cell_type": "code",
   "execution_count": 2,
   "metadata": {},
   "outputs": [],
   "source": [
    "# trying to read in dataset from google sheet i made public and then loading it from the project directory if it fails\n",
    "\n",
    "try:\n",
    "    \n",
    "    sheet_url = \"https://docs.google.com/spreadsheets/d/1jzihXIadik_fkLF3u5dtNW2ELG0Ts3CNjOMFAVnrPL0/edit?usp=sharing\"\n",
    "    \n",
    "    r = requests.get(sheet_url)\n",
    "    \n",
    "    df = pd.read_csv(BytesIO(r.content)) \n",
    "except:\n",
    "    \n",
    "    df = pd.read_csv(\"/Users/juansiliezar/sprint-4-software-development-tools/datasets/vehicles_us.csv\")\n",
    "    "
   ]
  },
  {
   "cell_type": "markdown",
   "metadata": {},
   "source": [
    "# Data Preparation "
   ]
  },
  {
   "cell_type": "code",
   "execution_count": 6,
   "metadata": {},
   "outputs": [
    {
     "name": "stdout",
     "output_type": "stream",
     "text": [
      "<class 'pandas.core.frame.DataFrame'>\n",
      "RangeIndex: 51525 entries, 0 to 51524\n",
      "Data columns (total 13 columns):\n",
      " #   Column        Non-Null Count  Dtype  \n",
      "---  ------        --------------  -----  \n",
      " 0   price         51525 non-null  int64  \n",
      " 1   model_year    47906 non-null  float64\n",
      " 2   model         51525 non-null  object \n",
      " 3   condition     51525 non-null  object \n",
      " 4   cylinders     46265 non-null  float64\n",
      " 5   fuel          51525 non-null  object \n",
      " 6   odometer      43633 non-null  float64\n",
      " 7   transmission  51525 non-null  object \n",
      " 8   type          51525 non-null  object \n",
      " 9   paint_color   42258 non-null  object \n",
      " 10  is_4wd        25572 non-null  float64\n",
      " 11  date_posted   51525 non-null  object \n",
      " 12  days_listed   51525 non-null  int64  \n",
      "dtypes: float64(4), int64(2), object(7)\n",
      "memory usage: 5.1+ MB\n"
     ]
    },
    {
     "data": {
      "text/html": [
       "<div>\n",
       "<style scoped>\n",
       "    .dataframe tbody tr th:only-of-type {\n",
       "        vertical-align: middle;\n",
       "    }\n",
       "\n",
       "    .dataframe tbody tr th {\n",
       "        vertical-align: top;\n",
       "    }\n",
       "\n",
       "    .dataframe thead th {\n",
       "        text-align: right;\n",
       "    }\n",
       "</style>\n",
       "<table border=\"1\" class=\"dataframe\">\n",
       "  <thead>\n",
       "    <tr style=\"text-align: right;\">\n",
       "      <th></th>\n",
       "      <th>price</th>\n",
       "      <th>model_year</th>\n",
       "      <th>model</th>\n",
       "      <th>condition</th>\n",
       "      <th>cylinders</th>\n",
       "      <th>fuel</th>\n",
       "      <th>odometer</th>\n",
       "      <th>transmission</th>\n",
       "      <th>type</th>\n",
       "      <th>paint_color</th>\n",
       "      <th>is_4wd</th>\n",
       "      <th>date_posted</th>\n",
       "      <th>days_listed</th>\n",
       "    </tr>\n",
       "  </thead>\n",
       "  <tbody>\n",
       "    <tr>\n",
       "      <th>44652</th>\n",
       "      <td>15900</td>\n",
       "      <td>2018.0</td>\n",
       "      <td>dodge grand caravan</td>\n",
       "      <td>good</td>\n",
       "      <td>6.0</td>\n",
       "      <td>gas</td>\n",
       "      <td>51051.0</td>\n",
       "      <td>automatic</td>\n",
       "      <td>van</td>\n",
       "      <td>grey</td>\n",
       "      <td>NaN</td>\n",
       "      <td>2018-09-14</td>\n",
       "      <td>11</td>\n",
       "    </tr>\n",
       "    <tr>\n",
       "      <th>42998</th>\n",
       "      <td>3500</td>\n",
       "      <td>2007.0</td>\n",
       "      <td>chevrolet impala</td>\n",
       "      <td>good</td>\n",
       "      <td>6.0</td>\n",
       "      <td>hybrid</td>\n",
       "      <td>153000.0</td>\n",
       "      <td>automatic</td>\n",
       "      <td>sedan</td>\n",
       "      <td>black</td>\n",
       "      <td>NaN</td>\n",
       "      <td>2019-01-22</td>\n",
       "      <td>30</td>\n",
       "    </tr>\n",
       "    <tr>\n",
       "      <th>42817</th>\n",
       "      <td>3200</td>\n",
       "      <td>1992.0</td>\n",
       "      <td>gmc sierra</td>\n",
       "      <td>good</td>\n",
       "      <td>8.0</td>\n",
       "      <td>gas</td>\n",
       "      <td>145700.0</td>\n",
       "      <td>automatic</td>\n",
       "      <td>truck</td>\n",
       "      <td>NaN</td>\n",
       "      <td>1.0</td>\n",
       "      <td>2018-06-18</td>\n",
       "      <td>39</td>\n",
       "    </tr>\n",
       "    <tr>\n",
       "      <th>41892</th>\n",
       "      <td>2500</td>\n",
       "      <td>1997.0</td>\n",
       "      <td>ram 1500</td>\n",
       "      <td>fair</td>\n",
       "      <td>8.0</td>\n",
       "      <td>gas</td>\n",
       "      <td>187000.0</td>\n",
       "      <td>automatic</td>\n",
       "      <td>pickup</td>\n",
       "      <td>black</td>\n",
       "      <td>1.0</td>\n",
       "      <td>2018-07-24</td>\n",
       "      <td>13</td>\n",
       "    </tr>\n",
       "    <tr>\n",
       "      <th>488</th>\n",
       "      <td>10495</td>\n",
       "      <td>2013.0</td>\n",
       "      <td>toyota camry</td>\n",
       "      <td>excellent</td>\n",
       "      <td>4.0</td>\n",
       "      <td>gas</td>\n",
       "      <td>111337.0</td>\n",
       "      <td>automatic</td>\n",
       "      <td>other</td>\n",
       "      <td>grey</td>\n",
       "      <td>NaN</td>\n",
       "      <td>2019-01-15</td>\n",
       "      <td>17</td>\n",
       "    </tr>\n",
       "  </tbody>\n",
       "</table>\n",
       "</div>"
      ],
      "text/plain": [
       "       price  model_year                model  condition  cylinders    fuel  \\\n",
       "44652  15900      2018.0  dodge grand caravan       good        6.0     gas   \n",
       "42998   3500      2007.0     chevrolet impala       good        6.0  hybrid   \n",
       "42817   3200      1992.0           gmc sierra       good        8.0     gas   \n",
       "41892   2500      1997.0             ram 1500       fair        8.0     gas   \n",
       "488    10495      2013.0         toyota camry  excellent        4.0     gas   \n",
       "\n",
       "       odometer transmission    type paint_color  is_4wd date_posted  \\\n",
       "44652   51051.0    automatic     van        grey     NaN  2018-09-14   \n",
       "42998  153000.0    automatic   sedan       black     NaN  2019-01-22   \n",
       "42817  145700.0    automatic   truck         NaN     1.0  2018-06-18   \n",
       "41892  187000.0    automatic  pickup       black     1.0  2018-07-24   \n",
       "488    111337.0    automatic   other        grey     NaN  2019-01-15   \n",
       "\n",
       "       days_listed  \n",
       "44652           11  \n",
       "42998           30  \n",
       "42817           39  \n",
       "41892           13  \n",
       "488             17  "
      ]
     },
     "execution_count": 6,
     "metadata": {},
     "output_type": "execute_result"
    }
   ],
   "source": [
    "df.info()\n",
    "df.sample(5)"
   ]
  },
  {
   "cell_type": "code",
   "execution_count": 9,
   "metadata": {},
   "outputs": [
    {
     "data": {
      "text/plain": [
       "0"
      ]
     },
     "execution_count": 9,
     "metadata": {},
     "output_type": "execute_result"
    }
   ],
   "source": [
    "# Checking for duplicate rows\n",
    "df.duplicated().sum()"
   ]
  },
  {
   "cell_type": "code",
   "execution_count": 20,
   "metadata": {},
   "outputs": [
    {
     "data": {
      "text/plain": [
       "(3619, 13)"
      ]
     },
     "execution_count": 20,
     "metadata": {},
     "output_type": "execute_result"
    }
   ],
   "source": [
    "# Investigating missing values in model year column\n",
    "missing_model_year = df[df['model_year'].isna()]\n",
    "missing_model_year.shape"
   ]
  },
  {
   "cell_type": "code",
   "execution_count": 21,
   "metadata": {},
   "outputs": [
    {
     "data": {
      "text/plain": [
       "is_4wd\n",
       "NaN    25953\n",
       "1.0    25572\n",
       "Name: count, dtype: int64"
      ]
     },
     "execution_count": 21,
     "metadata": {},
     "output_type": "execute_result"
    }
   ],
   "source": [
    "# Investingating is_4wd column\n",
    "df['is_4wd'].value_counts(dropna=False)"
   ]
  },
  {
   "cell_type": "code",
   "execution_count": 23,
   "metadata": {},
   "outputs": [
    {
     "data": {
      "text/plain": [
       "cylinders\n",
       "8.0     15844\n",
       "6.0     15700\n",
       "4.0     13864\n",
       "NaN      5260\n",
       "10.0      549\n",
       "5.0       272\n",
       "3.0        34\n",
       "12.0        2\n",
       "Name: count, dtype: int64"
      ]
     },
     "execution_count": 23,
     "metadata": {},
     "output_type": "execute_result"
    }
   ],
   "source": [
    "# Investigating cylinders column\n",
    "df['cylinders'].value_counts(dropna=False)"
   ]
  },
  {
   "cell_type": "code",
   "execution_count": 25,
   "metadata": {},
   "outputs": [
    {
     "data": {
      "text/plain": [
       "paint_color\n",
       "white     10029\n",
       "NaN        9267\n",
       "black      7692\n",
       "silver     6244\n",
       "grey       5037\n",
       "blue       4475\n",
       "red        4421\n",
       "green      1396\n",
       "brown      1223\n",
       "custom     1153\n",
       "yellow      255\n",
       "orange      231\n",
       "purple      102\n",
       "Name: count, dtype: int64"
      ]
     },
     "execution_count": 25,
     "metadata": {},
     "output_type": "execute_result"
    }
   ],
   "source": [
    "# Investigating paint_color column\n",
    "df['paint_color'].value_counts(dropna=False)"
   ]
  },
  {
   "cell_type": "code",
   "execution_count": 26,
   "metadata": {},
   "outputs": [
    {
     "data": {
      "text/plain": [
       "odometer\n",
       "NaN         7892\n",
       "0.0          185\n",
       "140000.0     183\n",
       "120000.0     179\n",
       "130000.0     178\n",
       "            ... \n",
       "87836.0        1\n",
       "172625.0       1\n",
       "103597.0       1\n",
       "167239.0       1\n",
       "139573.0       1\n",
       "Name: count, Length: 17763, dtype: int64"
      ]
     },
     "execution_count": 26,
     "metadata": {},
     "output_type": "execute_result"
    }
   ],
   "source": [
    "# Investigating odometer column\n",
    "df['odometer'].value_counts(dropna=False)"
   ]
  },
  {
   "cell_type": "markdown",
   "metadata": {},
   "source": [
    "<div class='alert alert-info'> <b>Initial observations</b>\n",
    "\n",
    "There are 51,525 rows of data and 13 columns. The index is a standard zero-based index which applies well to this specific dataset since there is no other unique identifier to use for each car. There are zero duplicate rows in our dataset. There are missing values in the `paint_color` (9,276), `odometer` (7,892), `cylinders` (5,260), `model_year` (3,619), & `is_4wd` (25,953) columns. However the missing columns in the `is_4wd` column aren't true missing values. It appears that the rows with missing values in this column are cars that are not 4 wheel drive since the only other value in that column is \"1\" which is commonly used to represent \"yes\". In regards to the former columns that contain missing values, I think it would be detrimental to our analysis to drop these rows as (1) the missing data is actually representative of what the used car market is in reality; people are forced to make decisions with the info available to them, and (2) the main variables of interest in my opinion are the `model` and `price` columns which do not contain any missing values, so we will keep these values. However, some of these columns do not have the appropriate data types, so I will look to correct those. I will also fill in the missing values for the `cylinders` and `paint_color` with the value \"unkown\" as these are categorical variables. \n",
    "\n",
    "1. Fill in missing values in `is_4wd` column with the value `0` to represent 'no'\n",
    "2. Fill in missing values for `paint_color` and `cylinders` with placeholder value 'Unknown'\n",
    "2. Change model year dtype to `int64`\n",
    "3. Change cylinders dtype to `int64` \n",
    "4. Change data posted dtype to `datetime`\n",
    "\n",
    "Questions about the data\n",
    "\n",
    "        - What is the range of years that cars in this dataset were sold?\n",
    "        - What are the most common car models in the used car market?\n",
    "        - \n",
    "    \n",
    "</div>"
   ]
  },
  {
   "cell_type": "code",
   "execution_count": null,
   "metadata": {},
   "outputs": [],
   "source": [
    "# Correcting innapropriate data types\n",
    "df['model_year'] = df['model_year'].astype('int64')\n",
    "df['cylinders'] = df['cylinders'].astype('int64')\n",
    "df['date_posted'] = pd.to_datetime(df['date_posted'], format='%Y-%m-%d')"
   ]
  },
  {
   "cell_type": "code",
   "execution_count": null,
   "metadata": {},
   "outputs": [],
   "source": []
  }
 ],
 "metadata": {
  "kernelspec": {
   "display_name": "sp4env",
   "language": "python",
   "name": "python3"
  },
  "language_info": {
   "codemirror_mode": {
    "name": "ipython",
    "version": 3
   },
   "file_extension": ".py",
   "mimetype": "text/x-python",
   "name": "python",
   "nbconvert_exporter": "python",
   "pygments_lexer": "ipython3",
   "version": "3.11.5"
  }
 },
 "nbformat": 4,
 "nbformat_minor": 2
}
